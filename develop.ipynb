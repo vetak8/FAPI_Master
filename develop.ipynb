{
 "cells": [
  {
   "cell_type": "code",
   "execution_count": 29,
   "id": "bb296086-9c5d-4304-b73c-15dbed87f13f",
   "metadata": {
    "scrolled": true
   },
   "outputs": [],
   "source": [
    "def get_chunks(path):\n",
    "    headers_to_split_on = [\n",
    "        ('#', 'Header 1'),\n",
    "        ('##', 'Header 2'),\n",
    "        ('###', 'Header 3'),\n",
    "        # ('###', 'Header 4')\n",
    "    ]\n",
    "    all_chunks = []\n",
    "    for root, _, files in os.walk(path):\n",
    "        for file in tqdm(files):\n",
    "            if file.endswith('.md'):\n",
    "                file_path = os.path.join(root, file)\n",
    "                try:\n",
    "                    # Загрузка файла\n",
    "                    with open(file_path) as f:\n",
    "                        markdown_content = f.read()\n",
    "                        \n",
    "                    markdown_splitter = MarkdownHeaderTextSplitter(headers_to_split_on=headers_to_split_on, strip_headers=False)\n",
    "                    doc_chunks = markdown_splitter.split_text(markdown_content)\n",
    "                    for chunk in doc_chunks:\n",
    "                        all_chunks.append((list(chunk.metadata.values())[0], chunk.page_content))\n",
    "                   \n",
    "    \n",
    "                except Exception as e:\n",
    "                    print(f'Ошибка обработки файла {file_path}: {e}')\n",
    "                    continue\n",
    "    return all_chunks\n",
    "                \n",
    "        "
   ]
  },
  {
   "cell_type": "code",
   "execution_count": null,
   "id": "bccb8540-3a49-4705-98cb-301acee1911c",
   "metadata": {},
   "outputs": [],
   "source": []
  },
  {
   "cell_type": "code",
   "execution_count": 1,
   "id": "03dc0ab7-7b3b-4a93-ad33-0c5bcba0b91e",
   "metadata": {},
   "outputs": [],
   "source": [
    "from langchain_gigachat import chat_models, embeddings, GigaChat, GigaChatEmbeddings, output_parsers, tools, utils\n"
   ]
  },
  {
   "cell_type": "code",
   "execution_count": null,
   "id": "14c3843c-355a-49c2-ba6c-ceb5d56988f3",
   "metadata": {},
   "outputs": [],
   "source": [
    "GigaChatEmbeddings()"
   ]
  },
  {
   "cell_type": "code",
   "execution_count": 2,
   "id": "cac86266-10b8-4d9b-ad35-f3c04e258249",
   "metadata": {
    "scrolled": true
   },
   "outputs": [
    {
     "ename": "TypeError",
     "evalue": "SentenceTransformer.__init__() got an unexpected keyword argument 'request_timeout'",
     "output_type": "error",
     "traceback": [
      "\u001b[31m---------------------------------------------------------------------------\u001b[39m",
      "\u001b[31mTypeError\u001b[39m                                 Traceback (most recent call last)",
      "\u001b[36mCell\u001b[39m\u001b[36m \u001b[39m\u001b[32mIn[2]\u001b[39m\u001b[32m, line 8\u001b[39m\n\u001b[32m      5\u001b[39m os.environ[\u001b[33m'\u001b[39m\u001b[33mHF_TRANSFER_TIMEOUT\u001b[39m\u001b[33m'\u001b[39m] = \u001b[33m'\u001b[39m\u001b[33m100\u001b[39m\u001b[33m'\u001b[39m  \u001b[38;5;66;03m# Увеличиваем таймаут для HF\u001b[39;00m\n\u001b[32m      6\u001b[39m os.environ[\u001b[33m'\u001b[39m\u001b[33mHF_HUB_DOWNLOAD_TIMEOUT\u001b[39m\u001b[33m'\u001b[39m] = \u001b[33m'\u001b[39m\u001b[33m600\u001b[39m\u001b[33m'\u001b[39m  \u001b[38;5;66;03m# Увеличиваем таймаут загрузки\u001b[39;00m\n\u001b[32m----> \u001b[39m\u001b[32m8\u001b[39m embedding_model = \u001b[43mSentenceTransformer\u001b[49m\u001b[43m(\u001b[49m\n\u001b[32m      9\u001b[39m \u001b[43m    \u001b[49m\u001b[43mmodel_name_or_path\u001b[49m\u001b[43m=\u001b[49m\u001b[33;43m'\u001b[39;49m\u001b[33;43msentence-transformers/paraphrase-multilingual-mpnet-base-v2\u001b[39;49m\u001b[33;43m'\u001b[39;49m\u001b[43m,\u001b[49m\n\u001b[32m     10\u001b[39m \u001b[43m    \u001b[49m\u001b[38;5;66;43;03m# Дополнительные опции для requests\u001b[39;49;00m\n\u001b[32m     11\u001b[39m \u001b[43m    \u001b[49m\u001b[43mrequest_timeout\u001b[49m\u001b[43m=\u001b[49m\u001b[32;43m120\u001b[39;49m\n\u001b[32m     12\u001b[39m \u001b[43m)\u001b[49m\n\u001b[32m     13\u001b[39m test_embedding = embedding_model.embed_query(\u001b[33m\"\u001b[39m\u001b[33mFastAPI is a modern web frameworffk\u001b[39m\u001b[33m\"\u001b[39m)\n\u001b[32m     14\u001b[39m \u001b[38;5;28mprint\u001b[39m(\u001b[33mf\u001b[39m\u001b[33m\"\u001b[39m\u001b[33mРазмерность эмбеддинга: \u001b[39m\u001b[38;5;132;01m{\u001b[39;00m\u001b[38;5;28mlen\u001b[39m(test_embedding)\u001b[38;5;132;01m}\u001b[39;00m\u001b[33m\"\u001b[39m)\n",
      "\u001b[31mTypeError\u001b[39m: SentenceTransformer.__init__() got an unexpected keyword argument 'request_timeout'"
     ]
    }
   ],
   "source": [
    "from sentence_transformers import SentenceTransformer\n",
    "import os\n",
    "\n",
    "# Попробуйте увеличить таймаут (в секундах)\n",
    "os.environ['HF_TRANSFER_TIMEOUT'] = '100'  # Увеличиваем таймаут для HF\n",
    "os.environ['HF_HUB_DOWNLOAD_TIMEOUT'] = '600'  # Увеличиваем таймаут загрузки\n",
    "\n",
    "embedding_model = SentenceTransformer(\n",
    "    model_name_or_path='sentence-transformers/paraphrase-multilingual-mpnet-base-v2',\n",
    "    # Дополнительные опции для requests\n",
    "    request_timeout=120\n",
    ")\n",
    "test_embedding = embedding_model.embed_query(\"FastAPI is a modern web frameworffk\")\n",
    "print(f\"Размерность эмбеддинга: {len(test_embedding)}\")"
   ]
  },
  {
   "cell_type": "code",
   "execution_count": 3,
   "id": "efe3746b-434b-4243-b860-c2ef6015ff9c",
   "metadata": {},
   "outputs": [
    {
     "ename": "TypeError",
     "evalue": "SentenceTransformer.__init__() got an unexpected keyword argument 'model_name'",
     "output_type": "error",
     "traceback": [
      "\u001b[31m---------------------------------------------------------------------------\u001b[39m",
      "\u001b[31mTypeError\u001b[39m                                 Traceback (most recent call last)",
      "\u001b[36mCell\u001b[39m\u001b[36m \u001b[39m\u001b[32mIn[3]\u001b[39m\u001b[32m, line 2\u001b[39m\n\u001b[32m      1\u001b[39m \u001b[38;5;28;01mfrom\u001b[39;00m\u001b[38;5;250m \u001b[39m\u001b[34;01mlangchain_huggingface\u001b[39;00m\u001b[38;5;250m \u001b[39m\u001b[38;5;28;01mimport\u001b[39;00m HuggingFaceEmbeddings\n\u001b[32m----> \u001b[39m\u001b[32m2\u001b[39m \u001b[43mSentenceTransformer\u001b[49m\u001b[43m(\u001b[49m\u001b[43mmodel_name\u001b[49m\u001b[43m=\u001b[49m\u001b[33;43m'\u001b[39;49m\u001b[33;43mintfloat/multilingual-e5-large\u001b[39;49m\u001b[33;43m'\u001b[39;49m\u001b[43m)\u001b[49m\n\u001b[32m      3\u001b[39m \u001b[38;5;66;03m# Инициализация модели для создания эмбеддингов\u001b[39;00m\n\u001b[32m      4\u001b[39m \u001b[38;5;66;03m# Хорошая модель для старта: all-MiniLM-L6-v2\u001b[39;00m\n\u001b[32m      5\u001b[39m embedding_model = HuggingFaceEmbeddings(\n\u001b[32m      6\u001b[39m     \u001b[38;5;66;03m# model_name=\"sentence-transformers/all-MiniLM-L6-v2\",\u001b[39;00m\n\u001b[32m      7\u001b[39m     model_name = \u001b[33m'\u001b[39m\u001b[33mintfloat/multilingual-e5-large\u001b[39m\u001b[33m'\u001b[39m,\n\u001b[32m      8\u001b[39m     model_kwargs={\u001b[33m'\u001b[39m\u001b[33mdevice\u001b[39m\u001b[33m'\u001b[39m: \u001b[33m'\u001b[39m\u001b[33mcpu\u001b[39m\u001b[33m'\u001b[39m}, \n\u001b[32m      9\u001b[39m     encode_kwargs={\u001b[33m'\u001b[39m\u001b[33mnormalize_embeddings\u001b[39m\u001b[33m'\u001b[39m: \u001b[38;5;28;01mTrue\u001b[39;00m}  \u001b[38;5;66;03m# Нормализация для косинусного сходства\u001b[39;00m\n\u001b[32m     10\u001b[39m )\n",
      "\u001b[31mTypeError\u001b[39m: SentenceTransformer.__init__() got an unexpected keyword argument 'model_name'"
     ]
    }
   ],
   "source": [
    "from langchain_huggingface import HuggingFaceEmbeddings\n",
    "# Инициализация модели для создания эмбеддингов\n",
    "# Хорошая модель для старта: all-MiniLM-L6-v2\n",
    "embedding_model = HuggingFaceEmbeddings(\n",
    "    # model_name=\"sentence-transformers/all-MiniLM-L6-v2\",\n",
    "    model_name = 'intfloat/multilingual-e5-large',\n",
    "    model_kwargs={'device': 'cpu'}, \n",
    "    encode_kwargs={'normalize_embeddings': True}  # Нормализация для косинусного сходства\n",
    ")\n",
    "\n",
    "# Тестируем модель\n",
    "test_embedding = embedding_model.embed_query(\"FastAPI is a modern web frameworffk\")\n",
    "print(f\"Размерность эмбеддинга: {len(test_embedding)}\")"
   ]
  },
  {
   "cell_type": "code",
   "execution_count": 7,
   "id": "5ab9b91a-3f3d-45ce-8d97-6e45546be727",
   "metadata": {},
   "outputs": [],
   "source": [
    "client = QdrantClient(url='localhost:6333')  # Используйте \"localhost:6333\" для standalone-сервера"
   ]
  },
  {
   "cell_type": "code",
   "execution_count": null,
   "id": "36617a65-3813-4a90-8909-4ffb1633dfe8",
   "metadata": {},
   "outputs": [],
   "source": []
  },
  {
   "cell_type": "code",
   "execution_count": 5,
   "id": "974daad2-92fb-4ed1-ab53-a0de793ba15e",
   "metadata": {},
   "outputs": [
    {
     "ename": "NameError",
     "evalue": "name 'embedding_model' is not defined",
     "output_type": "error",
     "traceback": [
      "\u001b[31m---------------------------------------------------------------------------\u001b[39m",
      "\u001b[31mNameError\u001b[39m                                 Traceback (most recent call last)",
      "\u001b[36mCell\u001b[39m\u001b[36m \u001b[39m\u001b[32mIn[5]\u001b[39m\u001b[32m, line 30\u001b[39m\n\u001b[32m     24\u001b[39m     \u001b[38;5;28mprint\u001b[39m(\u001b[33mf\u001b[39m\u001b[33m\"\u001b[39m\u001b[33mКоллекция可能 уже существует: \u001b[39m\u001b[38;5;132;01m{\u001b[39;00me\u001b[38;5;132;01m}\u001b[39;00m\u001b[33m\"\u001b[39m)\n\u001b[32m     26\u001b[39m \u001b[38;5;66;03m# Инициализация векторного хранилища LangChain для Qdrant\u001b[39;00m\n\u001b[32m     27\u001b[39m vector_store = Qdrant(\n\u001b[32m     28\u001b[39m     client=client,\n\u001b[32m     29\u001b[39m     collection_name=\u001b[33m\"\u001b[39m\u001b[33mfastapi_docs\u001b[39m\u001b[33m\"\u001b[39m,\n\u001b[32m---> \u001b[39m\u001b[32m30\u001b[39m     embeddings=\u001b[43membedding_model\u001b[49m,\n\u001b[32m     31\u001b[39m )\n",
      "\u001b[31mNameError\u001b[39m: name 'embedding_model' is not defined"
     ]
    }
   ],
   "source": [
    "from qdrant_client import QdrantClient\n",
    "from qdrant_client.models import VectorParams, Distance\n",
    "from langchain.vectorstores import Qdrant\n",
    "\n",
    "# Локальный режим (для тестирования)\n",
    "client = QdrantClient(\":memory:\")  # Используйте \"localhost:6333\" для standalone-сервера\n",
    "\n",
    "# Или подключение к Qdrant Cloud\n",
    "# client = QdrantClient(\n",
    "#     url=\"your-cluster-url\",\n",
    "#     api_key=\"your-api-key\",\n",
    "# )\n",
    "\n",
    "# Создание коллекции (если её нет)\n",
    "try:\n",
    "    client.create_collection(\n",
    "        collection_name=\"fastapi_docs\",\n",
    "        vectors_config=VectorParams(\n",
    "            size=384,  # Должно соответствовать размерности выбранной модели эмбеддингов!\n",
    "            distance=Distance.COSINE  # Косинусное расстояние для семантического сходства\n",
    "        )\n",
    "    )\n",
    "except Exception as e:\n",
    "    print(f\"Коллекция可能 уже существует: {e}\")\n",
    "\n",
    "# Инициализация векторного хранилища LangChain для Qdrant\n",
    "vector_store = Qdrant(\n",
    "    client=client,\n",
    "    collection_name=\"fastapi_docs\",\n",
    "    embeddings=embedding_model,\n",
    ")"
   ]
  },
  {
   "cell_type": "code",
   "execution_count": 4,
   "id": "340cc9ce-94a0-49b9-b57e-ead553be3606",
   "metadata": {},
   "outputs": [
    {
     "ename": "NameError",
     "evalue": "name 'embedding_model' is not defined",
     "output_type": "error",
     "traceback": [
      "\u001b[31m---------------------------------------------------------------------------\u001b[39m",
      "\u001b[31mNameError\u001b[39m                                 Traceback (most recent call last)",
      "\u001b[36mCell\u001b[39m\u001b[36m \u001b[39m\u001b[32mIn[4]\u001b[39m\u001b[32m, line 30\u001b[39m\n\u001b[32m     24\u001b[39m     \u001b[38;5;28mprint\u001b[39m(\u001b[33mf\u001b[39m\u001b[33m\"\u001b[39m\u001b[33mКоллекция可能 уже существует: \u001b[39m\u001b[38;5;132;01m{\u001b[39;00me\u001b[38;5;132;01m}\u001b[39;00m\u001b[33m\"\u001b[39m)\n\u001b[32m     26\u001b[39m \u001b[38;5;66;03m# Инициализация векторного хранилища LangChain для Qdrant\u001b[39;00m\n\u001b[32m     27\u001b[39m vector_store = Qdrant(\n\u001b[32m     28\u001b[39m     client=client,\n\u001b[32m     29\u001b[39m     collection_name=\u001b[33m\"\u001b[39m\u001b[33mfastapi_docs\u001b[39m\u001b[33m\"\u001b[39m,\n\u001b[32m---> \u001b[39m\u001b[32m30\u001b[39m     embeddings=\u001b[43membedding_model\u001b[49m,\n\u001b[32m     31\u001b[39m )\n",
      "\u001b[31mNameError\u001b[39m: name 'embedding_model' is not defined"
     ]
    }
   ],
   "source": [
    "from qdrant_client import QdrantClient\n",
    "from qdrant_client.models import VectorParams, Distance\n",
    "from langchain.vectorstores import Qdrant\n",
    "\n",
    "# Локальный режим (для тестирования)\n",
    "client = QdrantClient(\":memory:\")  # Используйте \"localhost:6333\" для standalone-сервера\n",
    "\n",
    "# Или подключение к Qdrant Cloud\n",
    "# client = QdrantClient(\n",
    "#     url=\"your-cluster-url\",\n",
    "#     api_key=\"your-api-key\",\n",
    "# )\n",
    "\n",
    "# Создание коллекции (если её нет)\n",
    "try:\n",
    "    client.create_collection(\n",
    "        collection_name=\"fastapi_docs\",\n",
    "        vectors_config=VectorParams(\n",
    "            size=384,  # Должно соответствовать размерности выбранной модели эмбеддингов!\n",
    "            distance=Distance.COSINE  # Косинусное расстояние для семантического сходства\n",
    "        )\n",
    "    )\n",
    "except Exception as e:\n",
    "    print(f\"Коллекция可能 уже существует: {e}\")\n",
    "\n",
    "# Инициализация векторного хранилища LangChain для Qdrant\n",
    "vector_store = Qdrant(\n",
    "    client=client,\n",
    "    collection_name=\"fastapi_docs\",\n",
    "    embeddings=embedding_model,\n",
    ")"
   ]
  },
  {
   "cell_type": "code",
   "execution_count": null,
   "id": "bcadf9b2-b771-4add-b862-9ea6c7e02dc5",
   "metadata": {},
   "outputs": [],
   "source": [
    "# Пример запроса\n",
    "query = \"How to create a POST endpoint in FastAPI?\"\n",
    "found_docs = vector_store.similarity_search(\n",
    "    query=query,\n",
    "    k=5  # Количество возвращаемых результатов\n",
    ")\n",
    "\n",
    "# Вывод результатов\n",
    "for i, doc in enumerate(found_docs):\n",
    "    print(f\"Результат #{i+1}:\")\n",
    "    print(f\"Контент: {doc.page_content[:200]}...\")\n",
    "    print(f\"Источник: {doc.metadata.get('source', 'N/A')}\")\n",
    "    print(f\"Рейтинг: {score}\")  # Если используется similarity_search_with_score\n",
    "    print(\"-\" * 50)"
   ]
  },
  {
   "cell_type": "code",
   "execution_count": null,
   "id": "eeaae7a6-fe3c-48bb-83ef-647225cb7e32",
   "metadata": {},
   "outputs": [],
   "source": []
  },
  {
   "cell_type": "code",
   "execution_count": null,
   "id": "a587d7d2-958e-4bce-91a3-3dc49ceb00ea",
   "metadata": {},
   "outputs": [],
   "source": []
  }
 ],
 "metadata": {
  "kernelspec": {
   "display_name": "Python 3 (ipykernel)",
   "language": "python",
   "name": "python3"
  },
  "language_info": {
   "codemirror_mode": {
    "name": "ipython",
    "version": 3
   },
   "file_extension": ".py",
   "mimetype": "text/x-python",
   "name": "python",
   "nbconvert_exporter": "python",
   "pygments_lexer": "ipython3",
   "version": "3.12.3"
  }
 },
 "nbformat": 4,
 "nbformat_minor": 5
}
